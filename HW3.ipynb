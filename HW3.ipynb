{
 "cells": [
  {
   "cell_type": "markdown",
   "metadata": {},
   "source": [
    "# Задача 1"
   ]
  },
  {
   "cell_type": "code",
   "execution_count": 8,
   "metadata": {},
   "outputs": [],
   "source": [
    "import numpy as np"
   ]
  },
  {
   "cell_type": "code",
   "execution_count": 9,
   "metadata": {},
   "outputs": [],
   "source": [
    "def solve(a):\n",
    "    x = 0\n",
    "    for i in range(0, len(a)):\n",
    "        for j in range (i+1, len(a)):\n",
    "            if(j - a[j]<= i + a[i]):\n",
    "                x+=1\n",
    "    if (x>100000):\n",
    "        return -1\n",
    "    return x\n",
    "    \n",
    "    "
   ]
  },
  {
   "cell_type": "code",
   "execution_count": 10,
   "metadata": {},
   "outputs": [
    {
     "data": {
      "text/plain": [
       "11"
      ]
     },
     "execution_count": 10,
     "metadata": {},
     "output_type": "execute_result"
    }
   ],
   "source": [
    "N = 6\n",
    "A = np.zeros(N)\n",
    "A[0] = 1\n",
    "A[1] = 5\n",
    "A[2] = 2\n",
    "A[3] = 1\n",
    "A[4] = 4\n",
    "A[5] = 0\n",
    "solve(A)"
   ]
  },
  {
   "cell_type": "markdown",
   "metadata": {},
   "source": [
    "# Задача 2\n",
    "\n"
   ]
  },
  {
   "cell_type": "code",
   "execution_count": 11,
   "metadata": {},
   "outputs": [],
   "source": [
    "def solve(a,n):\n",
    "    r = a[0]\n",
    "    for i in range(1,n):\n",
    "        r ^= a[i]\n",
    "    return r\n"
   ]
  },
  {
   "cell_type": "code",
   "execution_count": 12,
   "metadata": {
    "scrolled": true
   },
   "outputs": [
    {
     "data": {
      "text/plain": [
       "7"
      ]
     },
     "execution_count": 12,
     "metadata": {},
     "output_type": "execute_result"
    }
   ],
   "source": [
    "B = [9,3,9,3,9,7,9]\n",
    "solve(B,len(B))\n"
   ]
  },
  {
   "cell_type": "markdown",
   "metadata": {},
   "source": [
    "# Задача 3\n"
   ]
  },
  {
   "cell_type": "code",
   "execution_count": 15,
   "metadata": {},
   "outputs": [],
   "source": [
    "def solve(a,b,c):\n",
    "    arr = np.stack((a,b),axis=1)\n",
    "    live = c\n",
    "    s = []\n",
    "    for i in range (c):\n",
    "        if (arr[i][1] == 1):\n",
    "            s.append(arr[i][0])\n",
    "        else:\n",
    "            while len(s):\n",
    "                if (s[-1]>arr[i][0]):\n",
    "                    live -= 1\n",
    "                    #print('live ',s[-1])\n",
    "                    break\n",
    "                if(s[-1]< arr[i][0]):\n",
    "                    live -= 1\n",
    "                    #print('live ',arr[i][0])\n",
    "                    s.pop()\n",
    "    return live"
   ]
  },
  {
   "cell_type": "code",
   "execution_count": 16,
   "metadata": {},
   "outputs": [
    {
     "data": {
      "text/plain": [
       "2"
      ]
     },
     "execution_count": 16,
     "metadata": {},
     "output_type": "execute_result"
    }
   ],
   "source": [
    "a=np.array([4,3,2,1,5])\n",
    "b=np.array([0,1,0,0,0])\n",
    "solve(a,b,len(a))\n"
   ]
  },
  {
   "cell_type": "code",
   "execution_count": null,
   "metadata": {},
   "outputs": [],
   "source": []
  }
 ],
 "metadata": {
  "kernelspec": {
   "display_name": "Python 3",
   "language": "python",
   "name": "python3"
  },
  "language_info": {
   "codemirror_mode": {
    "name": "ipython",
    "version": 3
   },
   "file_extension": ".py",
   "mimetype": "text/x-python",
   "name": "python",
   "nbconvert_exporter": "python",
   "pygments_lexer": "ipython3",
   "version": "3.8.5"
  }
 },
 "nbformat": 4,
 "nbformat_minor": 4
}
